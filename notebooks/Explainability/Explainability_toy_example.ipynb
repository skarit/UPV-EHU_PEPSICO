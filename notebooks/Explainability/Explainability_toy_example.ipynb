{
  "nbformat": 4,
  "nbformat_minor": 0,
  "metadata": {
    "colab": {
      "provenance": []
    },
    "kernelspec": {
      "name": "python3",
      "display_name": "Python 3"
    },
    "language_info": {
      "name": "python"
    }
  },
  "cells": [
    {
      "cell_type": "markdown",
      "source": [
        "**TOY EXAMPLE**\n"
      ],
      "metadata": {
        "id": "sKp0g8Gw-iVf"
      }
    },
    {
      "cell_type": "code",
      "source": [
        "import numpy as np\n",
        "import pandas as pd\n",
        "#  Set seed for reproducibility\n",
        "np.random.seed(123)\n",
        "\n",
        "# parameters\n",
        "## pesticide usage\n",
        "pesticide_share = 0.5\n",
        "## worm risk\n",
        "worm_risk = 0.2 # pesticide = 0\n",
        "worm_risk_afterpesticide = 0.01 # pesticide = 1\n",
        "## pesticide direct effect\n",
        "direct_pesticide = -5\n",
        "worm_reduction = 0.1\n",
        "\n",
        "# pesticide sampling\n",
        "data =  np.random.choice([0,1],size = 1000 ,p=[1 - pesticide_share, pesticide_share])\n",
        "# random pesticide allocation\n",
        "df = pd.DataFrame(data, columns = ['pesticide'])\n",
        "# default no worms\n",
        "df['worms']=0\n",
        "df.loc[df['pesticide']==0,'worms']= np.random.choice([0,1],size = len(df[df['pesticide']==0]),p=[1-worm_risk ,worm_risk])\n",
        "df.loc[df['pesticide']==1,'worms']= np.random.choice([0,1],size = len(df[df['pesticide']==1]),p=[1 - worm_risk_afterpesticide,worm_risk_afterpesticide])\n",
        "# lambda parameter for yield\n",
        "df['param']=(50 + direct_pesticide * df['pesticide'])*(worm_reduction**df['worms'])\n",
        "# sample apples\n",
        "df['yield'] = np.random.poisson(lam=df['param'].values, size=(1,len(df['param']))).reshape((len(df['param']),1))\n",
        "# drop lambda parameter\n",
        "df1 = df.drop(['param'], axis=1)"
      ],
      "metadata": {
        "id": "FgM6g8TY76WC"
      },
      "execution_count": 1,
      "outputs": []
    },
    {
      "cell_type": "markdown",
      "source": [
        "**TRAIN XGB**"
      ],
      "metadata": {
        "id": "lT-W7N5C8jv9"
      }
    },
    {
      "cell_type": "code",
      "source": [
        "import xgboost as xgb\n",
        "\n",
        "X = df1.drop(columns='yield')\n",
        "y = df1['yield']\n",
        "\n",
        "\n",
        "\n",
        "train = xgb.DMatrix(X, label=y)\n",
        "\n",
        "classifier = xgb.train(\n",
        "        params={\"objective\": \"reg:linear\",\"eta\":0.1, \"max_depth\" :  3 , \"subsample\" : 0.8, 'eval_metric': 'mae'},\n",
        "        dtrain  = train,\n",
        "        num_boost_round=1000,\n",
        "        early_stopping_rounds=10,\n",
        "        evals=[(train, \"train\")],\n",
        "        verbose_eval=True)"
      ],
      "metadata": {
        "id": "J1-5Tk108huh"
      },
      "execution_count": null,
      "outputs": []
    },
    {
      "cell_type": "markdown",
      "source": [
        "**EXPLAINABILITY**"
      ],
      "metadata": {
        "id": "MwZXc-LF_HFU"
      }
    },
    {
      "cell_type": "code",
      "source": [
        "!pip install dalex\n",
        "!pip install shap"
      ],
      "metadata": {
        "id": "eeipjNyj7J-V"
      },
      "execution_count": null,
      "outputs": []
    },
    {
      "cell_type": "code",
      "source": [
        "# import shap library\n",
        "import shap\n",
        "# Fits the explainer\n",
        "explainer = shap.Explainer(classifier, model_output= \"raw\")\n",
        "# Calculates the SHAP values - It takes some time\n",
        "shap_values = explainer( train)\n",
        "\n",
        "shap.summary_plot(shap_values, X, plot_type=\"bar\")\n"
      ],
      "metadata": {
        "id": "mi54Yk1k__ik"
      },
      "execution_count": null,
      "outputs": []
    },
    {
      "cell_type": "markdown",
      "source": [
        "### WORMS = 0\n",
        "### PESTICIDE = 0"
      ],
      "metadata": {
        "id": "f-ur3c_0Jq_b"
      }
    },
    {
      "cell_type": "code",
      "source": [
        "shap.initjs()\n",
        "shap.force_plot(explainer.expected_value, shap_values.values[2, :], df1[['pesticide','worms']].iloc[2, :])"
      ],
      "metadata": {
        "id": "GTf0SmO6J_m5"
      },
      "execution_count": null,
      "outputs": []
    },
    {
      "cell_type": "markdown",
      "source": [
        "### WORMS = 0\n",
        "### PESTICIDE = 1"
      ],
      "metadata": {
        "id": "mQgnhf2GJ6ye"
      }
    },
    {
      "cell_type": "code",
      "source": [
        "shap.initjs()\n",
        "shap.force_plot(explainer.expected_value, shap_values.values[95, :], df1[['pesticide','worms']].iloc[95, :], link = \"identity\")\n"
      ],
      "metadata": {
        "id": "eT6dDuF0HC_g"
      },
      "execution_count": null,
      "outputs": []
    },
    {
      "cell_type": "markdown",
      "source": [
        "### WORMS = 1\n",
        "### PESTICIDE = 0"
      ],
      "metadata": {
        "id": "bjaffLA3PpfM"
      }
    },
    {
      "cell_type": "code",
      "source": [
        "shap.initjs()\n",
        "shap.force_plot(explainer.expected_value, shap_values.values[27, :], df1[['pesticide','worms']].iloc[27, :], link = \"identity\")"
      ],
      "metadata": {
        "id": "SsB9Gyq8JonJ"
      },
      "execution_count": null,
      "outputs": []
    },
    {
      "cell_type": "markdown",
      "source": [
        "### WORMS = 1\n",
        "### PESTICIDE = 1"
      ],
      "metadata": {
        "id": "QtaM2LvQQDVP"
      }
    },
    {
      "cell_type": "code",
      "source": [
        "shap.initjs()\n",
        "shap.force_plot(explainer.expected_value, shap_values.values[94, :], df1[['pesticide','worms']].iloc[94, :], link = \"identity\")"
      ],
      "metadata": {
        "id": "O7vg1CJ6P_lQ"
      },
      "execution_count": null,
      "outputs": []
    },
    {
      "cell_type": "markdown",
      "source": [
        "**DALEX ALTERNATIVE**"
      ],
      "metadata": {
        "id": "rtmZExKuQMJn"
      }
    },
    {
      "cell_type": "code",
      "source": [
        "import dalex as dx\n",
        "exp = dx.Explainer(classifier, X, y)\n",
        "\n",
        "exp.predict(X)\n",
        "exp.model_parts().plot()"
      ],
      "metadata": {
        "id": "7RuG_scY8iyJ"
      },
      "execution_count": null,
      "outputs": []
    },
    {
      "cell_type": "code",
      "source": [
        "exp.model_profile().plot()\n"
      ],
      "metadata": {
        "id": "UKQro8XG-tT1"
      },
      "execution_count": null,
      "outputs": []
    },
    {
      "cell_type": "code",
      "source": [
        "example = exp.predict_parts( new_observation = df1[['pesticide','worms']].iloc[2, :], type = \"break_down\")\n",
        "# plot Break Down\n",
        "example.plot()"
      ],
      "metadata": {
        "id": "UmB1SQbFQtRx"
      },
      "execution_count": null,
      "outputs": []
    },
    {
      "cell_type": "markdown",
      "source": [
        "## REAL EFFECT PESTICIDE"
      ],
      "metadata": {
        "id": "mdWiYbGfjaso"
      }
    },
    {
      "cell_type": "code",
      "source": [
        "def expected_yield(pesticide,worm_risk = 0.2, worm_risk_afterpesticide = 0.01, worm_reduction = 0.1, direct_pesticide = -5 ):\n",
        "\n",
        "  if pesticide == 0:\n",
        "    worms =  np.random.choice([0,1],size = 1,p=[1-worm_risk ,worm_risk])\n",
        "  else:\n",
        "    worms =  np.random.choice([0,1],size = 1,p=[1-worm_risk_afterpesticide ,worm_risk_afterpesticide])\n",
        "  # lambda parameter for yield\n",
        "  lam = (50 + direct_pesticide * pesticide) *(worm_reduction**worms)\n",
        "  # sample apples\n",
        "  return(np.random.poisson(lam= lam , size=1))\n",
        "\n",
        "### simulate\n",
        "simul = 1000\n",
        "no_pest = []\n",
        "yes_pest = []\n",
        "\n",
        "np.random.seed(345)\n",
        "for x in range(10000):\n",
        "  no_pest.append(expected_yield(0))\n",
        "  yes_pest.append(expected_yield(1))\n",
        "\n",
        "print(np.mean(yes_pest) - np.mean(no_pest))"
      ],
      "metadata": {
        "id": "TNfDuWQ9jcAM"
      },
      "execution_count": null,
      "outputs": []
    }
  ]
}